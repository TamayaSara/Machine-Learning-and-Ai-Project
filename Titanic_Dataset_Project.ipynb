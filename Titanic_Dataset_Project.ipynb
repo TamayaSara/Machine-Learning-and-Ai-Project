{
  "cells": [
    {
      "cell_type": "markdown",
      "id": "NTVpTqMu9kw6",
      "metadata": {
        "id": "NTVpTqMu9kw6"
      },
      "source": [
        "<img src=\"https://upload.wikimedia.org/wikipedia/commons/thumb/f/fd/RMS_Titanic_3.jpg/450px-RMS_Titanic_3.jpg\" width=\"300\">\n",
        "\n",
        "The sinking of the RMS Titanic is one of the most infamous shipwrecks in history. On April 15, 1912, during her maiden voyage, the Titanic sank after colliding with an iceberg, killing 1502 out of 2224 passengers and crew. One of the reasons that the shipwreck led to such loss of life was that there were not enough lifeboats for the passengers and crew. Although where was some element of luck involved in surviving the sinking, some groups of people were more likely to survive than others, such as women, children, and the upper-class.\n",
        "\n",
        "For this project, I worked with the [Titanic dataset](https://www.kaggle.com/c/titanic) on Kaggle.com. In this project, I get to apply machine learning tools to analyze the passenger information from the training set, and analyzed what factors may affect a passenger's chance for survival."
      ]
    },
    {
      "cell_type": "code",
      "execution_count": null,
      "id": "DbGxnzC-9hzf",
      "metadata": {
        "id": "DbGxnzC-9hzf"
      },
      "outputs": [],
      "source": [
        "import numpy as np\n",
        "import pandas as pd\n",
        "import matplotlib.pyplot as plt\n",
        "import seaborn as sns"
      ]
    },
    {
      "cell_type": "markdown",
      "id": "63244329",
      "metadata": {
        "id": "63244329"
      },
      "source": [
        "# Stage I: Data Exploration\n"
      ]
    },
    {
      "cell_type": "markdown",
      "id": "a14de50e",
      "metadata": {
        "id": "a14de50e"
      },
      "source": [
        "### (2) Load the training dataset as a Pandas DataFrame."
      ]
    },
    {
      "cell_type": "code",
      "execution_count": null,
      "id": "2879b4a0",
      "metadata": {
        "execution": {
          "iopub.execute_input": "2022-11-05T13:55:15.679887Z",
          "iopub.status.busy": "2022-11-05T13:55:15.678848Z",
          "iopub.status.idle": "2022-11-05T13:55:15.711586Z",
          "shell.execute_reply": "2022-11-05T13:55:15.712154Z",
          "shell.execute_reply.started": "2022-10-30T12:06:35.000296Z"
        },
        "id": "2879b4a0",
        "outputId": "b4e93d96-455e-47bb-ec30-dc1082294c62",
        "papermill": {
          "duration": 0.071305,
          "end_time": "2022-11-05T13:55:15.712374",
          "exception": false,
          "start_time": "2022-11-05T13:55:15.641069",
          "status": "completed"
        },
        "tags": []
      },
      "outputs": [
        {
          "data": {
            "text/html": [
              "<div>\n",
              "<style scoped>\n",
              "    .dataframe tbody tr th:only-of-type {\n",
              "        vertical-align: middle;\n",
              "    }\n",
              "\n",
              "    .dataframe tbody tr th {\n",
              "        vertical-align: top;\n",
              "    }\n",
              "\n",
              "    .dataframe thead th {\n",
              "        text-align: right;\n",
              "    }\n",
              "</style>\n",
              "<table border=\"1\" class=\"dataframe\">\n",
              "  <thead>\n",
              "    <tr style=\"text-align: right;\">\n",
              "      <th></th>\n",
              "      <th>PassengerId</th>\n",
              "      <th>Survived</th>\n",
              "      <th>Pclass</th>\n",
              "      <th>Name</th>\n",
              "      <th>Sex</th>\n",
              "      <th>Age</th>\n",
              "      <th>SibSp</th>\n",
              "      <th>Parch</th>\n",
              "      <th>Ticket</th>\n",
              "      <th>Fare</th>\n",
              "      <th>Cabin</th>\n",
              "      <th>Embarked</th>\n",
              "    </tr>\n",
              "  </thead>\n",
              "  <tbody>\n",
              "    <tr>\n",
              "      <th>0</th>\n",
              "      <td>1</td>\n",
              "      <td>0</td>\n",
              "      <td>3</td>\n",
              "      <td>Braund, Mr. Owen Harris</td>\n",
              "      <td>male</td>\n",
              "      <td>22.0</td>\n",
              "      <td>1</td>\n",
              "      <td>0</td>\n",
              "      <td>A/5 21171</td>\n",
              "      <td>7.2500</td>\n",
              "      <td>NaN</td>\n",
              "      <td>S</td>\n",
              "    </tr>\n",
              "    <tr>\n",
              "      <th>1</th>\n",
              "      <td>2</td>\n",
              "      <td>1</td>\n",
              "      <td>1</td>\n",
              "      <td>Cumings, Mrs. John Bradley (Florence Briggs Th...</td>\n",
              "      <td>female</td>\n",
              "      <td>38.0</td>\n",
              "      <td>1</td>\n",
              "      <td>0</td>\n",
              "      <td>PC 17599</td>\n",
              "      <td>71.2833</td>\n",
              "      <td>C85</td>\n",
              "      <td>C</td>\n",
              "    </tr>\n",
              "    <tr>\n",
              "      <th>2</th>\n",
              "      <td>3</td>\n",
              "      <td>1</td>\n",
              "      <td>3</td>\n",
              "      <td>Heikkinen, Miss. Laina</td>\n",
              "      <td>female</td>\n",
              "      <td>26.0</td>\n",
              "      <td>0</td>\n",
              "      <td>0</td>\n",
              "      <td>STON/O2. 3101282</td>\n",
              "      <td>7.9250</td>\n",
              "      <td>NaN</td>\n",
              "      <td>S</td>\n",
              "    </tr>\n",
              "    <tr>\n",
              "      <th>3</th>\n",
              "      <td>4</td>\n",
              "      <td>1</td>\n",
              "      <td>1</td>\n",
              "      <td>Futrelle, Mrs. Jacques Heath (Lily May Peel)</td>\n",
              "      <td>female</td>\n",
              "      <td>35.0</td>\n",
              "      <td>1</td>\n",
              "      <td>0</td>\n",
              "      <td>113803</td>\n",
              "      <td>53.1000</td>\n",
              "      <td>C123</td>\n",
              "      <td>S</td>\n",
              "    </tr>\n",
              "    <tr>\n",
              "      <th>4</th>\n",
              "      <td>5</td>\n",
              "      <td>0</td>\n",
              "      <td>3</td>\n",
              "      <td>Allen, Mr. William Henry</td>\n",
              "      <td>male</td>\n",
              "      <td>35.0</td>\n",
              "      <td>0</td>\n",
              "      <td>0</td>\n",
              "      <td>373450</td>\n",
              "      <td>8.0500</td>\n",
              "      <td>NaN</td>\n",
              "      <td>S</td>\n",
              "    </tr>\n",
              "    <tr>\n",
              "      <th>...</th>\n",
              "      <td>...</td>\n",
              "      <td>...</td>\n",
              "      <td>...</td>\n",
              "      <td>...</td>\n",
              "      <td>...</td>\n",
              "      <td>...</td>\n",
              "      <td>...</td>\n",
              "      <td>...</td>\n",
              "      <td>...</td>\n",
              "      <td>...</td>\n",
              "      <td>...</td>\n",
              "      <td>...</td>\n",
              "    </tr>\n",
              "    <tr>\n",
              "      <th>886</th>\n",
              "      <td>887</td>\n",
              "      <td>0</td>\n",
              "      <td>2</td>\n",
              "      <td>Montvila, Rev. Juozas</td>\n",
              "      <td>male</td>\n",
              "      <td>27.0</td>\n",
              "      <td>0</td>\n",
              "      <td>0</td>\n",
              "      <td>211536</td>\n",
              "      <td>13.0000</td>\n",
              "      <td>NaN</td>\n",
              "      <td>S</td>\n",
              "    </tr>\n",
              "    <tr>\n",
              "      <th>887</th>\n",
              "      <td>888</td>\n",
              "      <td>1</td>\n",
              "      <td>1</td>\n",
              "      <td>Graham, Miss. Margaret Edith</td>\n",
              "      <td>female</td>\n",
              "      <td>19.0</td>\n",
              "      <td>0</td>\n",
              "      <td>0</td>\n",
              "      <td>112053</td>\n",
              "      <td>30.0000</td>\n",
              "      <td>B42</td>\n",
              "      <td>S</td>\n",
              "    </tr>\n",
              "    <tr>\n",
              "      <th>888</th>\n",
              "      <td>889</td>\n",
              "      <td>0</td>\n",
              "      <td>3</td>\n",
              "      <td>Johnston, Miss. Catherine Helen \"Carrie\"</td>\n",
              "      <td>female</td>\n",
              "      <td>NaN</td>\n",
              "      <td>1</td>\n",
              "      <td>2</td>\n",
              "      <td>W./C. 6607</td>\n",
              "      <td>23.4500</td>\n",
              "      <td>NaN</td>\n",
              "      <td>S</td>\n",
              "    </tr>\n",
              "    <tr>\n",
              "      <th>889</th>\n",
              "      <td>890</td>\n",
              "      <td>1</td>\n",
              "      <td>1</td>\n",
              "      <td>Behr, Mr. Karl Howell</td>\n",
              "      <td>male</td>\n",
              "      <td>26.0</td>\n",
              "      <td>0</td>\n",
              "      <td>0</td>\n",
              "      <td>111369</td>\n",
              "      <td>30.0000</td>\n",
              "      <td>C148</td>\n",
              "      <td>C</td>\n",
              "    </tr>\n",
              "    <tr>\n",
              "      <th>890</th>\n",
              "      <td>891</td>\n",
              "      <td>0</td>\n",
              "      <td>3</td>\n",
              "      <td>Dooley, Mr. Patrick</td>\n",
              "      <td>male</td>\n",
              "      <td>32.0</td>\n",
              "      <td>0</td>\n",
              "      <td>0</td>\n",
              "      <td>370376</td>\n",
              "      <td>7.7500</td>\n",
              "      <td>NaN</td>\n",
              "      <td>Q</td>\n",
              "    </tr>\n",
              "  </tbody>\n",
              "</table>\n",
              "<p>891 rows × 12 columns</p>\n",
              "</div>"
            ],
            "text/plain": [
              "     PassengerId  Survived  Pclass  \\\n",
              "0              1         0       3   \n",
              "1              2         1       1   \n",
              "2              3         1       3   \n",
              "3              4         1       1   \n",
              "4              5         0       3   \n",
              "..           ...       ...     ...   \n",
              "886          887         0       2   \n",
              "887          888         1       1   \n",
              "888          889         0       3   \n",
              "889          890         1       1   \n",
              "890          891         0       3   \n",
              "\n",
              "                                                  Name     Sex   Age  SibSp  \\\n",
              "0                              Braund, Mr. Owen Harris    male  22.0      1   \n",
              "1    Cumings, Mrs. John Bradley (Florence Briggs Th...  female  38.0      1   \n",
              "2                               Heikkinen, Miss. Laina  female  26.0      0   \n",
              "3         Futrelle, Mrs. Jacques Heath (Lily May Peel)  female  35.0      1   \n",
              "4                             Allen, Mr. William Henry    male  35.0      0   \n",
              "..                                                 ...     ...   ...    ...   \n",
              "886                              Montvila, Rev. Juozas    male  27.0      0   \n",
              "887                       Graham, Miss. Margaret Edith  female  19.0      0   \n",
              "888           Johnston, Miss. Catherine Helen \"Carrie\"  female   NaN      1   \n",
              "889                              Behr, Mr. Karl Howell    male  26.0      0   \n",
              "890                                Dooley, Mr. Patrick    male  32.0      0   \n",
              "\n",
              "     Parch            Ticket     Fare Cabin Embarked  \n",
              "0        0         A/5 21171   7.2500   NaN        S  \n",
              "1        0          PC 17599  71.2833   C85        C  \n",
              "2        0  STON/O2. 3101282   7.9250   NaN        S  \n",
              "3        0            113803  53.1000  C123        S  \n",
              "4        0            373450   8.0500   NaN        S  \n",
              "..     ...               ...      ...   ...      ...  \n",
              "886      0            211536  13.0000   NaN        S  \n",
              "887      0            112053  30.0000   B42        S  \n",
              "888      2        W./C. 6607  23.4500   NaN        S  \n",
              "889      0            111369  30.0000  C148        C  \n",
              "890      0            370376   7.7500   NaN        Q  \n",
              "\n",
              "[891 rows x 12 columns]"
            ]
          },
          "execution_count": 112,
          "metadata": {},
          "output_type": "execute_result"
        }
      ],
      "source": [
        "df = pd.read_csv('train.csv')\n",
        "df"
      ]
    },
    {
      "cell_type": "markdown",
      "id": "987356f9",
      "metadata": {
        "id": "987356f9"
      },
      "source": [
        "### (3) Obtain basic information of variables."
      ]
    },
    {
      "cell_type": "code",
      "execution_count": null,
      "id": "c4dd1b00",
      "metadata": {
        "id": "c4dd1b00",
        "outputId": "b5e2bc0c-3a0f-4044-a9fb-5d2fc9199251"
      },
      "outputs": [
        {
          "name": "stdout",
          "output_type": "stream",
          "text": [
            "<class 'pandas.core.frame.DataFrame'>\n",
            "RangeIndex: 891 entries, 0 to 890\n",
            "Data columns (total 12 columns):\n",
            " #   Column       Non-Null Count  Dtype  \n",
            "---  ------       --------------  -----  \n",
            " 0   PassengerId  891 non-null    int64  \n",
            " 1   Survived     891 non-null    int64  \n",
            " 2   Pclass       891 non-null    int64  \n",
            " 3   Name         891 non-null    object \n",
            " 4   Sex          891 non-null    object \n",
            " 5   Age          714 non-null    float64\n",
            " 6   SibSp        891 non-null    int64  \n",
            " 7   Parch        891 non-null    int64  \n",
            " 8   Ticket       891 non-null    object \n",
            " 9   Fare         891 non-null    float64\n",
            " 10  Cabin        204 non-null    object \n",
            " 11  Embarked     889 non-null    object \n",
            "dtypes: float64(2), int64(5), object(5)\n",
            "memory usage: 83.7+ KB\n"
          ]
        }
      ],
      "source": [
        "df.info()"
      ]
    },
    {
      "cell_type": "code",
      "execution_count": null,
      "id": "1eb629ca",
      "metadata": {
        "id": "1eb629ca",
        "outputId": "6f1c2cb2-fac2-4a62-9ddc-8cd60cd1ba46"
      },
      "outputs": [
        {
          "data": {
            "text/plain": [
              "PassengerId      0\n",
              "Survived         0\n",
              "Pclass           0\n",
              "Name             0\n",
              "Sex              0\n",
              "Age            177\n",
              "SibSp            0\n",
              "Parch            0\n",
              "Ticket           0\n",
              "Fare             0\n",
              "Cabin          687\n",
              "Embarked         2\n",
              "dtype: int64"
            ]
          },
          "execution_count": 114,
          "metadata": {},
          "output_type": "execute_result"
        }
      ],
      "source": [
        "df.isnull().sum()"
      ]
    },
    {
      "cell_type": "code",
      "execution_count": null,
      "id": "6a590042",
      "metadata": {
        "id": "6a590042",
        "outputId": "4ad6c113-2c5d-4e88-dc40-3de94e071bc9"
      },
      "outputs": [
        {
          "data": {
            "text/html": [
              "<div>\n",
              "<style scoped>\n",
              "    .dataframe tbody tr th:only-of-type {\n",
              "        vertical-align: middle;\n",
              "    }\n",
              "\n",
              "    .dataframe tbody tr th {\n",
              "        vertical-align: top;\n",
              "    }\n",
              "\n",
              "    .dataframe thead th {\n",
              "        text-align: right;\n",
              "    }\n",
              "</style>\n",
              "<table border=\"1\" class=\"dataframe\">\n",
              "  <thead>\n",
              "    <tr style=\"text-align: right;\">\n",
              "      <th></th>\n",
              "      <th>PassengerId</th>\n",
              "      <th>Survived</th>\n",
              "      <th>Pclass</th>\n",
              "      <th>Age</th>\n",
              "      <th>SibSp</th>\n",
              "      <th>Parch</th>\n",
              "      <th>Fare</th>\n",
              "    </tr>\n",
              "  </thead>\n",
              "  <tbody>\n",
              "    <tr>\n",
              "      <th>count</th>\n",
              "      <td>891.000000</td>\n",
              "      <td>891.000000</td>\n",
              "      <td>891.000000</td>\n",
              "      <td>714.000000</td>\n",
              "      <td>891.000000</td>\n",
              "      <td>891.000000</td>\n",
              "      <td>891.000000</td>\n",
              "    </tr>\n",
              "    <tr>\n",
              "      <th>mean</th>\n",
              "      <td>446.000000</td>\n",
              "      <td>0.383838</td>\n",
              "      <td>2.308642</td>\n",
              "      <td>29.699118</td>\n",
              "      <td>0.523008</td>\n",
              "      <td>0.381594</td>\n",
              "      <td>32.204208</td>\n",
              "    </tr>\n",
              "    <tr>\n",
              "      <th>std</th>\n",
              "      <td>257.353842</td>\n",
              "      <td>0.486592</td>\n",
              "      <td>0.836071</td>\n",
              "      <td>14.526497</td>\n",
              "      <td>1.102743</td>\n",
              "      <td>0.806057</td>\n",
              "      <td>49.693429</td>\n",
              "    </tr>\n",
              "    <tr>\n",
              "      <th>min</th>\n",
              "      <td>1.000000</td>\n",
              "      <td>0.000000</td>\n",
              "      <td>1.000000</td>\n",
              "      <td>0.420000</td>\n",
              "      <td>0.000000</td>\n",
              "      <td>0.000000</td>\n",
              "      <td>0.000000</td>\n",
              "    </tr>\n",
              "    <tr>\n",
              "      <th>25%</th>\n",
              "      <td>223.500000</td>\n",
              "      <td>0.000000</td>\n",
              "      <td>2.000000</td>\n",
              "      <td>20.125000</td>\n",
              "      <td>0.000000</td>\n",
              "      <td>0.000000</td>\n",
              "      <td>7.910400</td>\n",
              "    </tr>\n",
              "    <tr>\n",
              "      <th>50%</th>\n",
              "      <td>446.000000</td>\n",
              "      <td>0.000000</td>\n",
              "      <td>3.000000</td>\n",
              "      <td>28.000000</td>\n",
              "      <td>0.000000</td>\n",
              "      <td>0.000000</td>\n",
              "      <td>14.454200</td>\n",
              "    </tr>\n",
              "    <tr>\n",
              "      <th>75%</th>\n",
              "      <td>668.500000</td>\n",
              "      <td>1.000000</td>\n",
              "      <td>3.000000</td>\n",
              "      <td>38.000000</td>\n",
              "      <td>1.000000</td>\n",
              "      <td>0.000000</td>\n",
              "      <td>31.000000</td>\n",
              "    </tr>\n",
              "    <tr>\n",
              "      <th>max</th>\n",
              "      <td>891.000000</td>\n",
              "      <td>1.000000</td>\n",
              "      <td>3.000000</td>\n",
              "      <td>80.000000</td>\n",
              "      <td>8.000000</td>\n",
              "      <td>6.000000</td>\n",
              "      <td>512.329200</td>\n",
              "    </tr>\n",
              "  </tbody>\n",
              "</table>\n",
              "</div>"
            ],
            "text/plain": [
              "       PassengerId    Survived      Pclass         Age       SibSp  \\\n",
              "count   891.000000  891.000000  891.000000  714.000000  891.000000   \n",
              "mean    446.000000    0.383838    2.308642   29.699118    0.523008   \n",
              "std     257.353842    0.486592    0.836071   14.526497    1.102743   \n",
              "min       1.000000    0.000000    1.000000    0.420000    0.000000   \n",
              "25%     223.500000    0.000000    2.000000   20.125000    0.000000   \n",
              "50%     446.000000    0.000000    3.000000   28.000000    0.000000   \n",
              "75%     668.500000    1.000000    3.000000   38.000000    1.000000   \n",
              "max     891.000000    1.000000    3.000000   80.000000    8.000000   \n",
              "\n",
              "            Parch        Fare  \n",
              "count  891.000000  891.000000  \n",
              "mean     0.381594   32.204208  \n",
              "std      0.806057   49.693429  \n",
              "min      0.000000    0.000000  \n",
              "25%      0.000000    7.910400  \n",
              "50%      0.000000   14.454200  \n",
              "75%      0.000000   31.000000  \n",
              "max      6.000000  512.329200  "
            ]
          },
          "execution_count": 115,
          "metadata": {},
          "output_type": "execute_result"
        }
      ],
      "source": [
        "df.describe()"
      ]
    },
    {
      "cell_type": "code",
      "execution_count": null,
      "id": "a7331f27",
      "metadata": {
        "id": "a7331f27",
        "outputId": "1c39cf56-64c3-4601-c2a7-d9622b26b693"
      },
      "outputs": [
        {
          "data": {
            "text/plain": [
              "array([[<AxesSubplot:title={'center':'PassengerId'}>,\n",
              "        <AxesSubplot:title={'center':'Survived'}>,\n",
              "        <AxesSubplot:title={'center':'Pclass'}>],\n",
              "       [<AxesSubplot:title={'center':'Age'}>,\n",
              "        <AxesSubplot:title={'center':'SibSp'}>,\n",
              "        <AxesSubplot:title={'center':'Parch'}>],\n",
              "       [<AxesSubplot:title={'center':'Fare'}>, <AxesSubplot:>,\n",
              "        <AxesSubplot:>]], dtype=object)"
            ]
          },
          "execution_count": 116,
          "metadata": {},
          "output_type": "execute_result"
        },
        {
          "data": {
            "image/png": "[encoded data removed]",
            "text/plain": [
              "<Figure size 1080x720 with 9 Axes>"
            ]
          },
          "metadata": {
            "needs_background": "light"
          },
          "output_type": "display_data"
        }
      ],
      "source": [
        "df.hist(bins=30, figsize=(15, 10))"
      ]
    },
    {
      "cell_type": "markdown",
      "id": "8fb9fa6a",
      "metadata": {
        "id": "8fb9fa6a"
      },
      "source": [
        "### (4). Data Cleaning"
      ]
    },
    {
      "cell_type": "code",
      "execution_count": null,
      "id": "df7f35f3",
      "metadata": {
        "id": "df7f35f3",
        "outputId": "2113115b-d09d-43b8-f152-c649d50edff9"
      },
      "outputs": [
        {
          "data": {
            "text/plain": [
              "PassengerId    0.000000\n",
              "Survived       0.000000\n",
              "Pclass         0.000000\n",
              "Name           0.000000\n",
              "Sex            0.000000\n",
              "Age            0.198653\n",
              "SibSp          0.000000\n",
              "Parch          0.000000\n",
              "Ticket         0.000000\n",
              "Fare           0.000000\n",
              "Cabin          0.771044\n",
              "Embarked       0.002245\n",
              "dtype: float64"
            ]
          },
          "execution_count": 117,
          "metadata": {},
          "output_type": "execute_result"
        }
      ],
      "source": [
        "df.isnull().mean()"
      ]
    },
    {
      "cell_type": "code",
      "execution_count": null,
      "id": "27225689",
      "metadata": {
        "id": "27225689"
      },
      "outputs": [],
      "source": [
        "null_rate = len(df) * 0.95\n",
        "df = df.dropna(thresh=null_rate, axis=1)"
      ]
    },
    {
      "cell_type": "code",
      "execution_count": null,
      "id": "d0ccddf3",
      "metadata": {
        "id": "d0ccddf3"
      },
      "outputs": [],
      "source": [
        "df = df.dropna()\n",
        "df.drop(columns=['PassengerId', 'Ticket'], inplace=True)"
      ]
    },
    {
      "cell_type": "code",
      "execution_count": null,
      "id": "1b6a755c",
      "metadata": {
        "id": "1b6a755c",
        "outputId": "fcd99506-689a-4fe0-d0b6-db28dad2b06b"
      },
      "outputs": [
        {
          "data": {
            "text/html": [
              "<div>\n",
              "<style scoped>\n",
              "    .dataframe tbody tr th:only-of-type {\n",
              "        vertical-align: middle;\n",
              "    }\n",
              "\n",
              "    .dataframe tbody tr th {\n",
              "        vertical-align: top;\n",
              "    }\n",
              "\n",
              "    .dataframe thead th {\n",
              "        text-align: right;\n",
              "    }\n",
              "</style>\n",
              "<table border=\"1\" class=\"dataframe\">\n",
              "  <thead>\n",
              "    <tr style=\"text-align: right;\">\n",
              "      <th></th>\n",
              "      <th>Survived</th>\n",
              "      <th>Pclass</th>\n",
              "      <th>Name</th>\n",
              "      <th>Sex</th>\n",
              "      <th>SibSp</th>\n",
              "      <th>Parch</th>\n",
              "      <th>Fare</th>\n",
              "      <th>Embarked</th>\n",
              "    </tr>\n",
              "  </thead>\n",
              "  <tbody>\n",
              "    <tr>\n",
              "      <th>0</th>\n",
              "      <td>0</td>\n",
              "      <td>3</td>\n",
              "      <td>Braund, Mr. Owen Harris</td>\n",
              "      <td>male</td>\n",
              "      <td>1</td>\n",
              "      <td>0</td>\n",
              "      <td>7.2500</td>\n",
              "      <td>S</td>\n",
              "    </tr>\n",
              "    <tr>\n",
              "      <th>1</th>\n",
              "      <td>1</td>\n",
              "      <td>1</td>\n",
              "      <td>Cumings, Mrs. John Bradley (Florence Briggs Th...</td>\n",
              "      <td>female</td>\n",
              "      <td>1</td>\n",
              "      <td>0</td>\n",
              "      <td>71.2833</td>\n",
              "      <td>C</td>\n",
              "    </tr>\n",
              "    <tr>\n",
              "      <th>2</th>\n",
              "      <td>1</td>\n",
              "      <td>3</td>\n",
              "      <td>Heikkinen, Miss. Laina</td>\n",
              "      <td>female</td>\n",
              "      <td>0</td>\n",
              "      <td>0</td>\n",
              "      <td>7.9250</td>\n",
              "      <td>S</td>\n",
              "    </tr>\n",
              "    <tr>\n",
              "      <th>3</th>\n",
              "      <td>1</td>\n",
              "      <td>1</td>\n",
              "      <td>Futrelle, Mrs. Jacques Heath (Lily May Peel)</td>\n",
              "      <td>female</td>\n",
              "      <td>1</td>\n",
              "      <td>0</td>\n",
              "      <td>53.1000</td>\n",
              "      <td>S</td>\n",
              "    </tr>\n",
              "    <tr>\n",
              "      <th>4</th>\n",
              "      <td>0</td>\n",
              "      <td>3</td>\n",
              "      <td>Allen, Mr. William Henry</td>\n",
              "      <td>male</td>\n",
              "      <td>0</td>\n",
              "      <td>0</td>\n",
              "      <td>8.0500</td>\n",
              "      <td>S</td>\n",
              "    </tr>\n",
              "    <tr>\n",
              "      <th>...</th>\n",
              "      <td>...</td>\n",
              "      <td>...</td>\n",
              "      <td>...</td>\n",
              "      <td>...</td>\n",
              "      <td>...</td>\n",
              "      <td>...</td>\n",
              "      <td>...</td>\n",
              "      <td>...</td>\n",
              "    </tr>\n",
              "    <tr>\n",
              "      <th>886</th>\n",
              "      <td>0</td>\n",
              "      <td>2</td>\n",
              "      <td>Montvila, Rev. Juozas</td>\n",
              "      <td>male</td>\n",
              "      <td>0</td>\n",
              "      <td>0</td>\n",
              "      <td>13.0000</td>\n",
              "      <td>S</td>\n",
              "    </tr>\n",
              "    <tr>\n",
              "      <th>887</th>\n",
              "      <td>1</td>\n",
              "      <td>1</td>\n",
              "      <td>Graham, Miss. Margaret Edith</td>\n",
              "      <td>female</td>\n",
              "      <td>0</td>\n",
              "      <td>0</td>\n",
              "      <td>30.0000</td>\n",
              "      <td>S</td>\n",
              "    </tr>\n",
              "    <tr>\n",
              "      <th>888</th>\n",
              "      <td>0</td>\n",
              "      <td>3</td>\n",
              "      <td>Johnston, Miss. Catherine Helen \"Carrie\"</td>\n",
              "      <td>female</td>\n",
              "      <td>1</td>\n",
              "      <td>2</td>\n",
              "      <td>23.4500</td>\n",
              "      <td>S</td>\n",
              "    </tr>\n",
              "    <tr>\n",
              "      <th>889</th>\n",
              "      <td>1</td>\n",
              "      <td>1</td>\n",
              "      <td>Behr, Mr. Karl Howell</td>\n",
              "      <td>male</td>\n",
              "      <td>0</td>\n",
              "      <td>0</td>\n",
              "      <td>30.0000</td>\n",
              "      <td>C</td>\n",
              "    </tr>\n",
              "    <tr>\n",
              "      <th>890</th>\n",
              "      <td>0</td>\n",
              "      <td>3</td>\n",
              "      <td>Dooley, Mr. Patrick</td>\n",
              "      <td>male</td>\n",
              "      <td>0</td>\n",
              "      <td>0</td>\n",
              "      <td>7.7500</td>\n",
              "      <td>Q</td>\n",
              "    </tr>\n",
              "  </tbody>\n",
              "</table>\n",
              "<p>889 rows × 8 columns</p>\n",
              "</div>"
            ],
            "text/plain": [
              "     Survived  Pclass                                               Name  \\\n",
              "0           0       3                            Braund, Mr. Owen Harris   \n",
              "1           1       1  Cumings, Mrs. John Bradley (Florence Briggs Th...   \n",
              "2           1       3                             Heikkinen, Miss. Laina   \n",
              "3           1       1       Futrelle, Mrs. Jacques Heath (Lily May Peel)   \n",
              "4           0       3                           Allen, Mr. William Henry   \n",
              "..        ...     ...                                                ...   \n",
              "886         0       2                              Montvila, Rev. Juozas   \n",
              "887         1       1                       Graham, Miss. Margaret Edith   \n",
              "888         0       3           Johnston, Miss. Catherine Helen \"Carrie\"   \n",
              "889         1       1                              Behr, Mr. Karl Howell   \n",
              "890         0       3                                Dooley, Mr. Patrick   \n",
              "\n",
              "        Sex  SibSp  Parch     Fare Embarked  \n",
              "0      male      1      0   7.2500        S  \n",
              "1    female      1      0  71.2833        C  \n",
              "2    female      0      0   7.9250        S  \n",
              "3    female      1      0  53.1000        S  \n",
              "4      male      0      0   8.0500        S  \n",
              "..      ...    ...    ...      ...      ...  \n",
              "886    male      0      0  13.0000        S  \n",
              "887  female      0      0  30.0000        S  \n",
              "888  female      1      2  23.4500        S  \n",
              "889    male      0      0  30.0000        C  \n",
              "890    male      0      0   7.7500        Q  \n",
              "\n",
              "[889 rows x 8 columns]"
            ]
          },
          "execution_count": 120,
          "metadata": {},
          "output_type": "execute_result"
        }
      ],
      "source": [
        "df"
      ]
    },
    {
      "cell_type": "markdown",
      "id": "0526e98c",
      "metadata": {
        "id": "0526e98c"
      },
      "source": [
        "### (5) Correlation coefficients and scatter plots"
      ]
    },
    {
      "cell_type": "code",
      "execution_count": null,
      "id": "6e8f1bce",
      "metadata": {
        "id": "6e8f1bce",
        "outputId": "9a0c578a-21c6-41e2-e45e-79d0077a479c"
      },
      "outputs": [
        {
          "data": {
            "image/png": "[encoded data removed]",
            "text/plain": [
              "<Figure size 1600x1000 with 2 Axes>"
            ]
          },
          "metadata": {
            "needs_background": "light"
          },
          "output_type": "display_data"
        }
      ],
      "source": [
        "# Correlation matrix\n",
        "\n",
        "df1 = df.copy()\n",
        "\n",
        "cols = df1.columns\n",
        "\n",
        "plt.figure(figsize = (16, 10), dpi = 100)\n",
        "\n",
        "corr = df1.corr()\n",
        "\n",
        "mask = np.zeros_like(corr, dtype=np.bool)\n",
        "mask[np.triu_indices_from(mask)] = True\n",
        "\n",
        "\n",
        "sns.heatmap(corr,\n",
        "            mask = mask,\n",
        "            cmap = 'autumn',\n",
        "            vmax=.3,\n",
        "            annot = True,\n",
        "            linewidths = 0.5,\n",
        "            fmt = \".2f\",\n",
        "            alpha = 0.7)\n",
        "\n",
        "hfont = {'fontname':'monospace'}\n",
        "plt.xticks(**hfont)\n",
        "plt.yticks(**hfont)\n",
        "\n",
        "plt.title('Correlation matrix',\n",
        "          family = 'monospace',\n",
        "          fontsize = 20,\n",
        "          weight = 'semibold',\n",
        "          color = 'blue')\n",
        "\n",
        "plt.show()"
      ]
    },
    {
      "cell_type": "code",
      "execution_count": null,
      "id": "fabdf447",
      "metadata": {
        "id": "fabdf447",
        "outputId": "2ffd0305-80f7-40f2-d0d6-e54cf70f9b01"
      },
      "outputs": [
        {
          "data": {
            "text/plain": [
              "<seaborn.axisgrid.PairGrid at 0x29e58ba71d0>"
            ]
          },
          "execution_count": 122,
          "metadata": {},
          "output_type": "execute_result"
        },
        {
          "data": {
            "image/png": "[encoded data removed]",
            "text/plain": [
              "<Figure size 900x900 with 30 Axes>"
            ]
          },
          "metadata": {
            "needs_background": "light"
          },
          "output_type": "display_data"
        }
      ],
      "source": [
        "sns.pairplot(df)"
      ]
    },
    {
      "cell_type": "markdown",
      "id": "f8a4430b",
      "metadata": {
        "id": "f8a4430b"
      },
      "source": [
        "### (6) (optional) create a column to indicate whether a passenger has a rare title."
      ]
    },
    {
      "cell_type": "code",
      "execution_count": null,
      "id": "59dd8fb6",
      "metadata": {
        "id": "59dd8fb6"
      },
      "outputs": [],
      "source": [
        "rare_title = [\"Dr.\", \"Mme\", \"Master.\"]\n",
        "df[\"rare_title\"] = df['Name'].apply(lambda x: 1 if any(i in x for i in rare_title) else 0)"
      ]
    },
    {
      "cell_type": "markdown",
      "id": "46993fb0",
      "metadata": {
        "id": "46993fb0"
      },
      "source": [
        "# Stage II: Model Construction\n"
      ]
    },
    {
      "cell_type": "markdown",
      "id": "84b0ef7b",
      "metadata": {
        "id": "84b0ef7b"
      },
      "source": [
        "### (1) Converting Categorical Features\n"
      ]
    },
    {
      "cell_type": "code",
      "execution_count": null,
      "id": "a9c1d9f5",
      "metadata": {
        "id": "a9c1d9f5"
      },
      "outputs": [],
      "source": [
        "from sklearn import preprocessing\n",
        "le = preprocessing.LabelEncoder()\n",
        "\n",
        "df['Sex'] = le.fit_transform(df['Sex'])"
      ]
    },
    {
      "cell_type": "code",
      "execution_count": null,
      "id": "08b1809b",
      "metadata": {
        "id": "08b1809b"
      },
      "outputs": [],
      "source": [
        "dummies = pd.get_dummies(df['Embarked']).rename(columns=lambda x: 'Embarked_' + str(x))\n",
        "df = pd.concat([df, dummies], axis=1)\n",
        "df = df.drop(columns=['Embarked', 'Name'], axis=1)"
      ]
    },
    {
      "cell_type": "code",
      "execution_count": null,
      "id": "c8b3b98e",
      "metadata": {
        "id": "c8b3b98e",
        "outputId": "6bf2a596-f936-43f2-da24-e126065bc60c"
      },
      "outputs": [
        {
          "data": {
            "text/html": [
              "<div>\n",
              "<style scoped>\n",
              "    .dataframe tbody tr th:only-of-type {\n",
              "        vertical-align: middle;\n",
              "    }\n",
              "\n",
              "    .dataframe tbody tr th {\n",
              "        vertical-align: top;\n",
              "    }\n",
              "\n",
              "    .dataframe thead th {\n",
              "        text-align: right;\n",
              "    }\n",
              "</style>\n",
              "<table border=\"1\" class=\"dataframe\">\n",
              "  <thead>\n",
              "    <tr style=\"text-align: right;\">\n",
              "      <th></th>\n",
              "      <th>Survived</th>\n",
              "      <th>Pclass</th>\n",
              "      <th>Sex</th>\n",
              "      <th>SibSp</th>\n",
              "      <th>Parch</th>\n",
              "      <th>Fare</th>\n",
              "      <th>rare_title</th>\n",
              "      <th>Embarked_C</th>\n",
              "      <th>Embarked_Q</th>\n",
              "      <th>Embarked_S</th>\n",
              "    </tr>\n",
              "  </thead>\n",
              "  <tbody>\n",
              "    <tr>\n",
              "      <th>0</th>\n",
              "      <td>0</td>\n",
              "      <td>3</td>\n",
              "      <td>1</td>\n",
              "      <td>1</td>\n",
              "      <td>0</td>\n",
              "      <td>7.2500</td>\n",
              "      <td>0</td>\n",
              "      <td>0</td>\n",
              "      <td>0</td>\n",
              "      <td>1</td>\n",
              "    </tr>\n",
              "    <tr>\n",
              "      <th>1</th>\n",
              "      <td>1</td>\n",
              "      <td>1</td>\n",
              "      <td>0</td>\n",
              "      <td>1</td>\n",
              "      <td>0</td>\n",
              "      <td>71.2833</td>\n",
              "      <td>0</td>\n",
              "      <td>1</td>\n",
              "      <td>0</td>\n",
              "      <td>0</td>\n",
              "    </tr>\n",
              "    <tr>\n",
              "      <th>2</th>\n",
              "      <td>1</td>\n",
              "      <td>3</td>\n",
              "      <td>0</td>\n",
              "      <td>0</td>\n",
              "      <td>0</td>\n",
              "      <td>7.9250</td>\n",
              "      <td>0</td>\n",
              "      <td>0</td>\n",
              "      <td>0</td>\n",
              "      <td>1</td>\n",
              "    </tr>\n",
              "    <tr>\n",
              "      <th>3</th>\n",
              "      <td>1</td>\n",
              "      <td>1</td>\n",
              "      <td>0</td>\n",
              "      <td>1</td>\n",
              "      <td>0</td>\n",
              "      <td>53.1000</td>\n",
              "      <td>0</td>\n",
              "      <td>0</td>\n",
              "      <td>0</td>\n",
              "      <td>1</td>\n",
              "    </tr>\n",
              "    <tr>\n",
              "      <th>4</th>\n",
              "      <td>0</td>\n",
              "      <td>3</td>\n",
              "      <td>1</td>\n",
              "      <td>0</td>\n",
              "      <td>0</td>\n",
              "      <td>8.0500</td>\n",
              "      <td>0</td>\n",
              "      <td>0</td>\n",
              "      <td>0</td>\n",
              "      <td>1</td>\n",
              "    </tr>\n",
              "    <tr>\n",
              "      <th>...</th>\n",
              "      <td>...</td>\n",
              "      <td>...</td>\n",
              "      <td>...</td>\n",
              "      <td>...</td>\n",
              "      <td>...</td>\n",
              "      <td>...</td>\n",
              "      <td>...</td>\n",
              "      <td>...</td>\n",
              "      <td>...</td>\n",
              "      <td>...</td>\n",
              "    </tr>\n",
              "    <tr>\n",
              "      <th>886</th>\n",
              "      <td>0</td>\n",
              "      <td>2</td>\n",
              "      <td>1</td>\n",
              "      <td>0</td>\n",
              "      <td>0</td>\n",
              "      <td>13.0000</td>\n",
              "      <td>0</td>\n",
              "      <td>0</td>\n",
              "      <td>0</td>\n",
              "      <td>1</td>\n",
              "    </tr>\n",
              "    <tr>\n",
              "      <th>887</th>\n",
              "      <td>1</td>\n",
              "      <td>1</td>\n",
              "      <td>0</td>\n",
              "      <td>0</td>\n",
              "      <td>0</td>\n",
              "      <td>30.0000</td>\n",
              "      <td>0</td>\n",
              "      <td>0</td>\n",
              "      <td>0</td>\n",
              "      <td>1</td>\n",
              "    </tr>\n",
              "    <tr>\n",
              "      <th>888</th>\n",
              "      <td>0</td>\n",
              "      <td>3</td>\n",
              "      <td>0</td>\n",
              "      <td>1</td>\n",
              "      <td>2</td>\n",
              "      <td>23.4500</td>\n",
              "      <td>0</td>\n",
              "      <td>0</td>\n",
              "      <td>0</td>\n",
              "      <td>1</td>\n",
              "    </tr>\n",
              "    <tr>\n",
              "      <th>889</th>\n",
              "      <td>1</td>\n",
              "      <td>1</td>\n",
              "      <td>1</td>\n",
              "      <td>0</td>\n",
              "      <td>0</td>\n",
              "      <td>30.0000</td>\n",
              "      <td>0</td>\n",
              "      <td>1</td>\n",
              "      <td>0</td>\n",
              "      <td>0</td>\n",
              "    </tr>\n",
              "    <tr>\n",
              "      <th>890</th>\n",
              "      <td>0</td>\n",
              "      <td>3</td>\n",
              "      <td>1</td>\n",
              "      <td>0</td>\n",
              "      <td>0</td>\n",
              "      <td>7.7500</td>\n",
              "      <td>0</td>\n",
              "      <td>0</td>\n",
              "      <td>1</td>\n",
              "      <td>0</td>\n",
              "    </tr>\n",
              "  </tbody>\n",
              "</table>\n",
              "<p>889 rows × 10 columns</p>\n",
              "</div>"
            ],
            "text/plain": [
              "     Survived  Pclass  Sex  SibSp  Parch     Fare  rare_title  Embarked_C  \\\n",
              "0           0       3    1      1      0   7.2500           0           0   \n",
              "1           1       1    0      1      0  71.2833           0           1   \n",
              "2           1       3    0      0      0   7.9250           0           0   \n",
              "3           1       1    0      1      0  53.1000           0           0   \n",
              "4           0       3    1      0      0   8.0500           0           0   \n",
              "..        ...     ...  ...    ...    ...      ...         ...         ...   \n",
              "886         0       2    1      0      0  13.0000           0           0   \n",
              "887         1       1    0      0      0  30.0000           0           0   \n",
              "888         0       3    0      1      2  23.4500           0           0   \n",
              "889         1       1    1      0      0  30.0000           0           1   \n",
              "890         0       3    1      0      0   7.7500           0           0   \n",
              "\n",
              "     Embarked_Q  Embarked_S  \n",
              "0             0           1  \n",
              "1             0           0  \n",
              "2             0           1  \n",
              "3             0           1  \n",
              "4             0           1  \n",
              "..          ...         ...  \n",
              "886           0           1  \n",
              "887           0           1  \n",
              "888           0           1  \n",
              "889           0           0  \n",
              "890           1           0  \n",
              "\n",
              "[889 rows x 10 columns]"
            ]
          },
          "execution_count": 126,
          "metadata": {},
          "output_type": "execute_result"
        }
      ],
      "source": [
        "df"
      ]
    },
    {
      "cell_type": "markdown",
      "id": "c159bf4a",
      "metadata": {
        "id": "c159bf4a"
      },
      "source": [
        "### (4) (Optional: Feature Engineering) create an indicator variable on whether a person paid for the ticket."
      ]
    },
    {
      "cell_type": "code",
      "execution_count": null,
      "id": "f25580c8",
      "metadata": {
        "id": "f25580c8"
      },
      "outputs": [],
      "source": [
        "df[\"is_paid\"] = df['Fare'].apply(lambda x: 1 if x>0 else 0)"
      ]
    },
    {
      "cell_type": "code",
      "execution_count": null,
      "id": "6b6699e3",
      "metadata": {
        "id": "6b6699e3"
      },
      "outputs": [],
      "source": [
        "y = df['Survived']\n",
        "X = df.drop(columns=['Survived'])"
      ]
    },
    {
      "cell_type": "markdown",
      "id": "106a9920",
      "metadata": {
        "id": "106a9920"
      },
      "source": [
        "### (2) Feature Scaling"
      ]
    },
    {
      "cell_type": "code",
      "execution_count": null,
      "id": "810377ac",
      "metadata": {
        "id": "810377ac"
      },
      "outputs": [],
      "source": [
        "from sklearn.preprocessing import StandardScaler\n",
        "scaler = StandardScaler()\n",
        "\n",
        "X = scaler.fit_transform(X)"
      ]
    },
    {
      "cell_type": "markdown",
      "id": "0242767d",
      "metadata": {
        "id": "0242767d"
      },
      "source": [
        "### (3) Extract Validation set"
      ]
    },
    {
      "cell_type": "code",
      "execution_count": null,
      "id": "8bb76ddf",
      "metadata": {
        "id": "8bb76ddf"
      },
      "outputs": [],
      "source": [
        "from sklearn.model_selection import train_test_split \n",
        "\n",
        "X_train, X_test, y_train, y_test = train_test_split(X, y, test_size=0.2, random_state=10)"
      ]
    },
    {
      "cell_type": "markdown",
      "id": "ae585540",
      "metadata": {
        "id": "ae585540"
      },
      "source": [
        "### (5) Building Models\n"
      ]
    },
    {
      "cell_type": "code",
      "execution_count": null,
      "id": "214f7dee",
      "metadata": {
        "id": "214f7dee"
      },
      "outputs": [],
      "source": [
        "from sklearn.linear_model import LogisticRegression\n",
        "from sklearn.svm import LinearSVC\n",
        "\n",
        "logr = LogisticRegression()\n",
        "svm = LinearSVC(max_iter=5000)"
      ]
    },
    {
      "cell_type": "markdown",
      "id": "e48dfca7",
      "metadata": {
        "id": "e48dfca7"
      },
      "source": [
        "# Stage III: Model Selection and Interpretation"
      ]
    },
    {
      "cell_type": "code",
      "execution_count": null,
      "id": "de5eb713",
      "metadata": {
        "id": "de5eb713"
      },
      "outputs": [],
      "source": [
        "from sklearn.model_selection import cross_val_score\n",
        "\n",
        "scores_logr = cross_val_score(logr, X, y, cv=5, scoring='f1_macro')\n",
        "scores_svm = cross_val_score(svm, X, y, cv=5, scoring='f1_macro')"
      ]
    },
    {
      "cell_type": "code",
      "execution_count": null,
      "id": "88a1d488",
      "metadata": {
        "id": "88a1d488",
        "outputId": "f7960584-1518-4ede-8017-a1d9f3ceba14"
      },
      "outputs": [
        {
          "data": {
            "text/plain": [
              "0.848526341012563"
            ]
          },
          "execution_count": 177,
          "metadata": {},
          "output_type": "execute_result"
        }
      ],
      "source": [
        "max(scores_logr)"
      ]
    },
    {
      "cell_type": "code",
      "execution_count": null,
      "id": "3732e15f",
      "metadata": {
        "id": "3732e15f",
        "outputId": "39df99a2-8d6d-4d7b-acc3-e4d2191faaaa"
      },
      "outputs": [
        {
          "data": {
            "text/plain": [
              "0.8494539516211344"
            ]
          },
          "execution_count": 178,
          "metadata": {},
          "output_type": "execute_result"
        }
      ],
      "source": [
        "max(scores_svm)"
      ]
    },
    {
      "cell_type": "code",
      "execution_count": null,
      "id": "aa54a713",
      "metadata": {
        "id": "aa54a713",
        "outputId": "eb9d7177-dd32-4258-c95c-4c3a26fb2482"
      },
      "outputs": [
        {
          "data": {
            "text/plain": [
              "LinearSVC(max_iter=5000)"
            ]
          },
          "execution_count": 184,
          "metadata": {},
          "output_type": "execute_result"
        }
      ],
      "source": [
        "logr = LogisticRegression()\n",
        "logr.fit(X_train, y_train)\n",
        "svm = LinearSVC(max_iter=5000)\n",
        "svm.fit(X_train, y_train)"
      ]
    },
    {
      "cell_type": "code",
      "execution_count": null,
      "id": "d468baf7",
      "metadata": {
        "id": "d468baf7"
      },
      "outputs": [],
      "source": [
        "from sklearn.metrics import confusion_matrix\n",
        "\n",
        "logr_pred = logr.predict(X_test)\n",
        "cm_logr = confusion_matrix(y_test, logr_pred)\n",
        "\n",
        "svm_pred = svm.predict(X_test)\n",
        "cm_svm = confusion_matrix(y_test, svm_pred)"
      ]
    },
    {
      "cell_type": "code",
      "execution_count": null,
      "id": "35be7232",
      "metadata": {
        "id": "35be7232"
      },
      "outputs": [],
      "source": [
        "target_names=['0', '1']"
      ]
    },
    {
      "cell_type": "code",
      "execution_count": null,
      "id": "252c9061",
      "metadata": {
        "id": "252c9061",
        "outputId": "c1869420-32db-4b98-c1a6-067850569e05"
      },
      "outputs": [
        {
          "data": {
            "image/png": "[encoded data removed]",
            "text/plain": [
              "<Figure size 432x288 with 2 Axes>"
            ]
          },
          "metadata": {
            "needs_background": "light"
          },
          "output_type": "display_data"
        }
      ],
      "source": [
        "ax = plt.subplot()\n",
        "sns.heatmap(cm_logr, annot=True, fmt='g', ax=ax);\n",
        "ax.set_xlabel('Predicted labels');ax.set_ylabel('True labels'); \n",
        "ax.set_title('Confusion Matrix logistic'); \n",
        "ax.xaxis.set_ticklabels(target_names); ax.yaxis.set_ticklabels(target_names);"
      ]
    },
    {
      "cell_type": "code",
      "execution_count": null,
      "id": "471ecf0a",
      "metadata": {
        "id": "471ecf0a",
        "outputId": "e92be492-4bff-4303-8461-f7192091a22b"
      },
      "outputs": [
        {
          "data": {
            "image/png": "[encoded data removed]",
            "text/plain": [
              "<Figure size 432x288 with 2 Axes>"
            ]
          },
          "metadata": {
            "needs_background": "light"
          },
          "output_type": "display_data"
        }
      ],
      "source": [
        "ax = plt.subplot()\n",
        "sns.heatmap(cm_svm, annot=True, fmt='g', ax=ax);\n",
        "ax.set_xlabel('Predicted labels');ax.set_ylabel('True labels'); \n",
        "ax.set_title('Confusion Matrix SVM'); \n",
        "ax.xaxis.set_ticklabels(target_names); ax.yaxis.set_ticklabels(target_names);"
      ]
    },
    {
      "cell_type": "code",
      "execution_count": null,
      "id": "d02e8695",
      "metadata": {
        "id": "d02e8695",
        "outputId": "d61c074a-8e0f-4394-ba71-5cd0bfed51a7"
      },
      "outputs": [
        {
          "name": "stdout",
          "output_type": "stream",
          "text": [
            "Precision of logistic model is:  0.7846153846153846\n",
            "Precision of svm model is:  0.8166666666666667\n",
            "Recall of logistic model is:  0.8095238095238095\n",
            "Recall of svm model is:  0.7777777777777778\n"
          ]
        }
      ],
      "source": [
        "from sklearn.metrics import precision_score, recall_score\n",
        "\n",
        "print(\"Precision of logistic model is: \", precision_score(y_test, logr_pred))\n",
        "print(\"Precision of svm model is: \", precision_score(y_test, svm_pred))\n",
        "\n",
        "print(\"Recall of logistic model is: \", recall_score(y_test, logr_pred))\n",
        "print(\"Recall of svm model is: \", recall_score(y_test, svm_pred))\n"
      ]
    },
    {
      "cell_type": "markdown",
      "id": "25c32b5d",
      "metadata": {
        "id": "25c32b5d"
      },
      "source": [
        "**=> The bese model is svm because F1 score os svm higher than logistic model**"
      ]
    },
    {
      "cell_type": "markdown",
      "id": "f426332a",
      "metadata": {
        "id": "f426332a"
      },
      "source": [
        "### (2) Model Interpretation."
      ]
    },
    {
      "cell_type": "code",
      "execution_count": null,
      "id": "b7ecf2de",
      "metadata": {
        "id": "b7ecf2de",
        "outputId": "290639c2-1c98-4beb-80c6-2c58d4d0cb9b"
      },
      "outputs": [
        {
          "data": {
            "text/plain": [
              "array([1, 1, 3, 5, 8, 2, 4, 9, 7, 6])"
            ]
          },
          "execution_count": 194,
          "metadata": {},
          "output_type": "execute_result"
        }
      ],
      "source": [
        "from sklearn.feature_selection import RFE\n",
        "\n",
        "selector = RFE(LinearSVC(max_iter=5000), n_features_to_select=2, step=1)\n",
        "selector.fit(X_train, y_train)\n",
        "# sort and select the top features\n",
        "selector.ranking_"
      ]
    },
    {
      "cell_type": "code",
      "execution_count": null,
      "id": "47e500f8",
      "metadata": {
        "id": "47e500f8"
      },
      "outputs": [],
      "source": [
        "ranks, col_name = zip(*sorted(zip(selector.ranking_, df.drop(columns=['Survived']).columns)))"
      ]
    },
    {
      "cell_type": "code",
      "execution_count": null,
      "id": "2b85cb8f",
      "metadata": {
        "id": "2b85cb8f",
        "outputId": "8185fdec-20dc-4bd8-e336-470d8d898944"
      },
      "outputs": [
        {
          "name": "stdout",
          "output_type": "stream",
          "text": [
            "Pclass ----> 1\n",
            "Sex ----> 1\n",
            "rare_title ----> 2\n",
            "SibSp ----> 3\n",
            "Embarked_C ----> 4\n",
            "Parch ----> 5\n",
            "is_paid ----> 6\n",
            "Embarked_S ----> 7\n",
            "Fare ----> 8\n",
            "Embarked_Q ----> 9\n"
          ]
        }
      ],
      "source": [
        "for rank, name in zip(ranks, col_name):\n",
        "    print(name, \"---->\", rank)"
      ]
    },
    {
      "cell_type": "markdown",
      "id": "3ebdf42a",
      "metadata": {
        "id": "3ebdf42a"
      },
      "source": [
        "**=> The Pclass and Sex are rank 1, these are important features can improve passengers’ chance of survival.**"
      ]
    },
    {
      "cell_type": "markdown",
      "id": "ecb381c2",
      "metadata": {
        "id": "ecb381c2"
      },
      "source": [
        "###  (3) (optional) Test"
      ]
    },
    {
      "cell_type": "code",
      "execution_count": null,
      "id": "7b8effdc",
      "metadata": {
        "id": "7b8effdc",
        "outputId": "1c882206-e7ed-4c2c-a12d-537b8aed30b7"
      },
      "outputs": [
        {
          "data": {
            "text/html": [
              "<div>\n",
              "<style scoped>\n",
              "    .dataframe tbody tr th:only-of-type {\n",
              "        vertical-align: middle;\n",
              "    }\n",
              "\n",
              "    .dataframe tbody tr th {\n",
              "        vertical-align: top;\n",
              "    }\n",
              "\n",
              "    .dataframe thead th {\n",
              "        text-align: right;\n",
              "    }\n",
              "</style>\n",
              "<table border=\"1\" class=\"dataframe\">\n",
              "  <thead>\n",
              "    <tr style=\"text-align: right;\">\n",
              "      <th></th>\n",
              "      <th>Pclass</th>\n",
              "      <th>Name</th>\n",
              "      <th>Sex</th>\n",
              "      <th>SibSp</th>\n",
              "      <th>Parch</th>\n",
              "      <th>Fare</th>\n",
              "      <th>Embarked</th>\n",
              "    </tr>\n",
              "  </thead>\n",
              "  <tbody>\n",
              "    <tr>\n",
              "      <th>0</th>\n",
              "      <td>3</td>\n",
              "      <td>Kelly, Mr. James</td>\n",
              "      <td>male</td>\n",
              "      <td>0</td>\n",
              "      <td>0</td>\n",
              "      <td>7.8292</td>\n",
              "      <td>Q</td>\n",
              "    </tr>\n",
              "    <tr>\n",
              "      <th>1</th>\n",
              "      <td>3</td>\n",
              "      <td>Wilkes, Mrs. James (Ellen Needs)</td>\n",
              "      <td>female</td>\n",
              "      <td>1</td>\n",
              "      <td>0</td>\n",
              "      <td>7.0000</td>\n",
              "      <td>S</td>\n",
              "    </tr>\n",
              "    <tr>\n",
              "      <th>2</th>\n",
              "      <td>2</td>\n",
              "      <td>Myles, Mr. Thomas Francis</td>\n",
              "      <td>male</td>\n",
              "      <td>0</td>\n",
              "      <td>0</td>\n",
              "      <td>9.6875</td>\n",
              "      <td>Q</td>\n",
              "    </tr>\n",
              "    <tr>\n",
              "      <th>3</th>\n",
              "      <td>3</td>\n",
              "      <td>Wirz, Mr. Albert</td>\n",
              "      <td>male</td>\n",
              "      <td>0</td>\n",
              "      <td>0</td>\n",
              "      <td>8.6625</td>\n",
              "      <td>S</td>\n",
              "    </tr>\n",
              "    <tr>\n",
              "      <th>4</th>\n",
              "      <td>3</td>\n",
              "      <td>Hirvonen, Mrs. Alexander (Helga E Lindqvist)</td>\n",
              "      <td>female</td>\n",
              "      <td>1</td>\n",
              "      <td>1</td>\n",
              "      <td>12.2875</td>\n",
              "      <td>S</td>\n",
              "    </tr>\n",
              "    <tr>\n",
              "      <th>...</th>\n",
              "      <td>...</td>\n",
              "      <td>...</td>\n",
              "      <td>...</td>\n",
              "      <td>...</td>\n",
              "      <td>...</td>\n",
              "      <td>...</td>\n",
              "      <td>...</td>\n",
              "    </tr>\n",
              "    <tr>\n",
              "      <th>413</th>\n",
              "      <td>3</td>\n",
              "      <td>Spector, Mr. Woolf</td>\n",
              "      <td>male</td>\n",
              "      <td>0</td>\n",
              "      <td>0</td>\n",
              "      <td>8.0500</td>\n",
              "      <td>S</td>\n",
              "    </tr>\n",
              "    <tr>\n",
              "      <th>414</th>\n",
              "      <td>1</td>\n",
              "      <td>Oliva y Ocana, Dona. Fermina</td>\n",
              "      <td>female</td>\n",
              "      <td>0</td>\n",
              "      <td>0</td>\n",
              "      <td>108.9000</td>\n",
              "      <td>C</td>\n",
              "    </tr>\n",
              "    <tr>\n",
              "      <th>415</th>\n",
              "      <td>3</td>\n",
              "      <td>Saether, Mr. Simon Sivertsen</td>\n",
              "      <td>male</td>\n",
              "      <td>0</td>\n",
              "      <td>0</td>\n",
              "      <td>7.2500</td>\n",
              "      <td>S</td>\n",
              "    </tr>\n",
              "    <tr>\n",
              "      <th>416</th>\n",
              "      <td>3</td>\n",
              "      <td>Ware, Mr. Frederick</td>\n",
              "      <td>male</td>\n",
              "      <td>0</td>\n",
              "      <td>0</td>\n",
              "      <td>8.0500</td>\n",
              "      <td>S</td>\n",
              "    </tr>\n",
              "    <tr>\n",
              "      <th>417</th>\n",
              "      <td>3</td>\n",
              "      <td>Peter, Master. Michael J</td>\n",
              "      <td>male</td>\n",
              "      <td>1</td>\n",
              "      <td>1</td>\n",
              "      <td>22.3583</td>\n",
              "      <td>C</td>\n",
              "    </tr>\n",
              "  </tbody>\n",
              "</table>\n",
              "<p>418 rows × 7 columns</p>\n",
              "</div>"
            ],
            "text/plain": [
              "     Pclass                                          Name     Sex  SibSp  \\\n",
              "0         3                              Kelly, Mr. James    male      0   \n",
              "1         3              Wilkes, Mrs. James (Ellen Needs)  female      1   \n",
              "2         2                     Myles, Mr. Thomas Francis    male      0   \n",
              "3         3                              Wirz, Mr. Albert    male      0   \n",
              "4         3  Hirvonen, Mrs. Alexander (Helga E Lindqvist)  female      1   \n",
              "..      ...                                           ...     ...    ...   \n",
              "413       3                            Spector, Mr. Woolf    male      0   \n",
              "414       1                  Oliva y Ocana, Dona. Fermina  female      0   \n",
              "415       3                  Saether, Mr. Simon Sivertsen    male      0   \n",
              "416       3                           Ware, Mr. Frederick    male      0   \n",
              "417       3                      Peter, Master. Michael J    male      1   \n",
              "\n",
              "     Parch      Fare Embarked  \n",
              "0        0    7.8292        Q  \n",
              "1        0    7.0000        S  \n",
              "2        0    9.6875        Q  \n",
              "3        0    8.6625        S  \n",
              "4        1   12.2875        S  \n",
              "..     ...       ...      ...  \n",
              "413      0    8.0500        S  \n",
              "414      0  108.9000        C  \n",
              "415      0    7.2500        S  \n",
              "416      0    8.0500        S  \n",
              "417      1   22.3583        C  \n",
              "\n",
              "[418 rows x 7 columns]"
            ]
          },
          "execution_count": 238,
          "metadata": {},
          "output_type": "execute_result"
        }
      ],
      "source": [
        "df_test = pd.read_csv('test.csv')\n",
        "passenger_id = df_test['PassengerId']\n",
        "df_test.drop(columns=['PassengerId', 'Ticket', 'Cabin', 'Age'], inplace=True)\n",
        "df_test = df_test.fillna(df_test.mean())\n",
        "df_test"
      ]
    },
    {
      "cell_type": "code",
      "execution_count": null,
      "id": "9f058a52",
      "metadata": {
        "id": "9f058a52"
      },
      "outputs": [],
      "source": [
        "df_test[\"rare_title\"] = df_test['Name'].apply(lambda x: 1 if any(i in x for i in rare_title) else 0)\n",
        "df_test['Sex'] = le.transform(df_test['Sex'])\n",
        "dummies = pd.get_dummies(df_test['Embarked']).rename(columns=lambda x: 'Embarked_' + str(x))\n",
        "df_test = pd.concat([df_test, dummies], axis=1)\n",
        "df_test = df_test.drop(columns=['Embarked', 'Name'], axis=1)\n",
        "df_test[\"is_paid\"] = df_test['Fare'].apply(lambda x: 1 if x>0 else 0)\n",
        "df_test = scaler.transform(df_test)"
      ]
    },
    {
      "cell_type": "code",
      "execution_count": null,
      "id": "bff3325b",
      "metadata": {
        "id": "bff3325b"
      },
      "outputs": [],
      "source": [
        "pred = svm.predict(df_test)"
      ]
    },
    {
      "cell_type": "code",
      "execution_count": null,
      "id": "8f10b705",
      "metadata": {
        "id": "8f10b705"
      },
      "outputs": [],
      "source": [
        "df_result = {\n",
        "    \"PassengerId\": [],\n",
        "    \"Survived\": []\n",
        "}\n",
        "\n",
        "for idx, p in zip(passenger_id, pred):\n",
        "    df_result[\"PassengerId\"].append(idx)\n",
        "    df_result[\"Survived\"].append(p)\n",
        "df_result = pd.DataFrame(df_result)"
      ]
    },
    {
      "cell_type": "code",
      "execution_count": null,
      "id": "84514c9d",
      "metadata": {
        "id": "84514c9d"
      },
      "outputs": [],
      "source": [
        "df_result.to_csv(\"result_submit.csv\", index=False)"
      ]
    }
  ],
  "metadata": {
    "colab": {
      "provenance": []
    },
    "kernelspec": {
      "display_name": "Python 3",
      "language": "python",
      "name": "python3"
    },
    "language_info": {
      "codemirror_mode": {
        "name": "ipython",
        "version": 3
      },
      "file_extension": ".py",
      "mimetype": "text/x-python",
      "name": "python",
      "nbconvert_exporter": "python",
      "pygments_lexer": "ipython3",
      "version": "3.6.5"
    },
    "papermill": {
      "default_parameters": {},
      "duration": 373.170131,
      "end_time": "2022-11-05T14:01:18.273831",
      "environment_variables": {},
      "exception": null,
      "input_path": "__notebook__.ipynb",
      "output_path": "__notebook__.ipynb",
      "parameters": {},
      "start_time": "2022-11-05T13:55:05.103700",
      "version": "2.3.3"
    }
  },
  "nbformat": 4,
  "nbformat_minor": 5
}
